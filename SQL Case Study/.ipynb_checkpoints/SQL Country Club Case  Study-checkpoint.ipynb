{
 "cells": [
  {
   "cell_type": "markdown",
   "metadata": {},
   "source": [
    "# SQL Country Club Case Study"
   ]
  },
  {
   "cell_type": "code",
   "execution_count": 19,
   "metadata": {},
   "outputs": [
    {
     "name": "stdout",
     "output_type": "stream",
     "text": [
      "2.6.0\n",
      "2. Query all tasks\n",
      "('Badminton Court', None, 1086)\n",
      "('Massage Room 1', None, 884)\n",
      "('Massage Room 2', None, 54)\n",
      "('Pool Table', None, 856)\n",
      "('Snooker Table', None, 860)\n",
      "('Squash Court', None, 418)\n",
      "('Table Tennis', None, 794)\n",
      "('Tennis Court 1', None, 957)\n",
      "('Tennis Court 2', None, 882)\n"
     ]
    }
   ],
   "source": [
    "import sqlite3\n",
    "from sqlite3 import Error\n",
    " \n",
    "def create_connection(db_file):\n",
    "    \"\"\" create a database connection to the SQLite database\n",
    "        specified by the db_file\n",
    "    :param db_file: database file\n",
    "    :return: Connection object or None\n",
    "    \"\"\"\n",
    "    conn = None\n",
    "    try:\n",
    "        conn = sqlite3.connect(db_file)\n",
    "        print(sqlite3.version)\n",
    "    except Error as e:\n",
    "        print(e)\n",
    " \n",
    "    return conn\n",
    " \n",
    "def select_all_tasks(conn):\n",
    "    \"\"\"\n",
    "    Query all rows in the tasks table\n",
    "    :param conn: the Connection object\n",
    "    :return:\n",
    "    \"\"\"\n",
    "    cur = conn.cursor()\n",
    "    \n",
    "    query1 = \"\"\"\n",
    "SELECT f.name AS Facility_Name,\n",
    "  strftime('%,m', starttime) AS Month,\n",
    "  SUM(slots) AS Total_Member_Usage_Slots\n",
    "FROM Bookings as b\n",
    "LEFT JOIN Facilities as f\n",
    "ON f.facid = b.facid\n",
    "WHERE b.memid > 0\n",
    "GROUP BY Facility_Name, Month;\n",
    "        \"\"\"\n",
    "    cur.execute(query1)\n",
    " \n",
    "    rows = cur.fetchall()\n",
    " \n",
    "    for row in rows:\n",
    "        print(row)\n",
    "\n",
    "\n",
    "def main():\n",
    "    database = \"sqlite_db_pythonsqlite.db\"\n",
    " \n",
    "    # create a database connection\n",
    "    conn = create_connection(database)\n",
    "    with conn: \n",
    "        print(\"2. Query all tasks\")\n",
    "        select_all_tasks(conn)\n",
    " \n",
    " \n",
    "if __name__ == '__main__':\n",
    "    main()"
   ]
  },
  {
   "cell_type": "code",
   "execution_count": null,
   "metadata": {},
   "outputs": [],
   "source": [
    "/* Q1: Some of the facilities charge a fee to members, but some do not.\n",
    "Write a SQL query to produce a list of the names of the facilities that do. */\n",
    "\n",
    "SELECT name\n",
    "FROM `Facilities`\n",
    "WHERE membercost <> 0;"
   ]
  },
  {
   "cell_type": "code",
   "execution_count": null,
   "metadata": {},
   "outputs": [],
   "source": [
    "/* Q2: How many facilities do not charge a fee to members? */\n",
    "\n",
    "SELECT COUNT(*)\n",
    "FROM `Facilities`\n",
    "WHERE membercost = 0;"
   ]
  },
  {
   "cell_type": "code",
   "execution_count": null,
   "metadata": {},
   "outputs": [],
   "source": [
    "/* Q3: Write an SQL query to show a list of facilities that charge a fee to members,\n",
    "where the fee is less than 20% of the facility's monthly maintenance cost.\n",
    "Return the facid, facility name, member cost, and monthly maintenance of the\n",
    "facilities in question. */\n",
    "\n",
    "SELECT facid,\n",
    "  name,\n",
    "  membercost,\n",
    "  monthlymaintenance\n",
    "FROM `Facilities`\n",
    "WHERE membercost < (0.2 * monthlymaintenance);"
   ]
  },
  {
   "cell_type": "code",
   "execution_count": null,
   "metadata": {},
   "outputs": [],
   "source": [
    "/* Q4: Write an SQL query to retrieve the details of facilities with ID 1 and 5.\n",
    "Try writing the query without using the OR operator. */\n",
    "\n",
    "SELECT *\n",
    "FROM `Facilities`\n",
    "WHERE facid in (1, 5);"
   ]
  },
  {
   "cell_type": "code",
   "execution_count": null,
   "metadata": {},
   "outputs": [],
   "source": [
    "/* Q5: Produce a list of facilities, with each labelled as\n",
    "'cheap' or 'expensive', depending on if their monthly maintenance cost is\n",
    "more than $100. Return the name and monthly maintenance of the facilities\n",
    "in question. */\n",
    "\n",
    "SELECT name,\n",
    "  monthlymaintenance,\n",
    "  CASE WHEN monthlymaintenance > 100 THEN 'expensive'\n",
    "       ELSE 'cheap' END\n",
    "       AS expensive_or_cheap\n",
    "FROM `Facilities`;"
   ]
  },
  {
   "cell_type": "code",
   "execution_count": null,
   "metadata": {},
   "outputs": [],
   "source": [
    "/* Q6: You'd like to get the first and last name of the last member(s)\n",
    "who signed up. Try not to use the LIMIT clause for your solution. */\n",
    "\n",
    "SELECT firstname,\n",
    "  surname\n",
    "FROM Members\n",
    "WHERE joindate IN (SELECT MAX(joindate)\n",
    "                   FROM Members);"
   ]
  },
  {
   "cell_type": "code",
   "execution_count": null,
   "metadata": {},
   "outputs": [],
   "source": [
    "/* Q7: Produce a list of all members who have used a tennis court.\n",
    "Include in your output the name of the court, and the name of the member\n",
    "formatted as a single column. Ensure no duplicate data, and order by\n",
    "the member name. */\n",
    "\n",
    "SELECT DISTINCT CONCAT(firstname, \" \", surname) AS member_name\n",
    "FROM Members AS m\n",
    "LEFT JOIN Bookings AS b\n",
    "ON m.memid = b.memid\n",
    "WHERE facid < 2 -- the two tennis court facids are 0 and 1.\n",
    "ORDER BY member_name;"
   ]
  },
  {
   "cell_type": "code",
   "execution_count": null,
   "metadata": {},
   "outputs": [],
   "source": [
    "/* Q8: Produce a list of bookings on the day of 2012-09-14 which\n",
    "will cost the member (or guest) more than $30. Remember that guests have\n",
    "different costs to members (the listed costs are per half-hour 'slot'), and\n",
    "the guest user's ID is always 0. Include in your output the name of the\n",
    "facility, the name of the member formatted as a single column, and the cost.\n",
    "Order by descending cost, and do not use any subqueries. */\n",
    "\n",
    "SELECT f.name AS facility_name,\n",
    "  CONCAT(m.firstname, \" \", m.surname) AS member_name,\n",
    "  (CASE WHEN m.memid = 0 THEN (guestcost * slots)\n",
    "   ELSE (membercost * slots) END) AS cost\n",
    "FROM Bookings as b\n",
    "LEFT JOIN Members as m\n",
    "ON b.memid = m.memid\n",
    "LEFT JOIN Facilities as f\n",
    "ON b.facid = f.facid\n",
    "WHERE b.starttime <= '2012-09-15 00:00:00' AND b.starttime >= '2012-09-14 00:00:00'\n",
    "HAVING cost > 30\n",
    "ORDER BY cost DESC;"
   ]
  },
  {
   "cell_type": "code",
   "execution_count": null,
   "metadata": {},
   "outputs": [],
   "source": [
    "/* Q9: This time, produce the same result as in Q8, but using a subquery. */\n",
    "\n",
    "SELECT facility_name,\n",
    "  member_name,\n",
    "  cost\n",
    "FROM\n",
    "  (SELECT f.name AS facility_name,\n",
    "    CONCAT(m.firstname, \" \", m.surname) AS member_name,\n",
    "    CAST(b.starttime AS DATE) AS date,\n",
    "    (CASE WHEN m.memid = 0 THEN (guestcost * slots)\n",
    "     ELSE (membercost * slots) END) AS cost\n",
    "  FROM Bookings as b\n",
    "  LEFT JOIN Members as m\n",
    "  ON m.memid = b.memid\n",
    "  LEFT JOIN Facilities as f\n",
    "  ON f.facid = b.facid\n",
    "  HAVING date = '2012-09-14' AND cost > 30) AS sub\n",
    "ORDER BY cost DESC;"
   ]
  },
  {
   "cell_type": "markdown",
   "metadata": {},
   "source": [
    "The above questions (1-9 were completed in MySQL through PHP Admin. The below questions (10-13) were completed in SQLite via Python in this Jupyter Notebook and executed using the code at the beginning of this notebook."
   ]
  },
  {
   "cell_type": "code",
   "execution_count": null,
   "metadata": {},
   "outputs": [],
   "source": [
    "/* Q10: Produce a list of facilities with a total revenue less than 1000.\n",
    "The output of facility name and total revenue, sorted by revenue. Remember\n",
    "that there's a different cost for guests and members! */\n",
    "\n",
    "SELECT f.name AS facility_name,\n",
    "  SUM(CASE WHEN m.memid = 0 THEN (guestcost * slots)\n",
    "   ELSE (membercost * slots) END) AS total_revenue\n",
    "FROM Bookings as b\n",
    "LEFT JOIN Members as m\n",
    "ON m.memid = b.memid\n",
    "LEFT JOIN Facilities as f\n",
    "ON f.facid = b.facid\n",
    "GROUP BY facility_name\n",
    "HAVING total_revenue < 1000\n",
    "ORDER BY total_revenue DESC;"
   ]
  },
  {
   "cell_type": "code",
   "execution_count": null,
   "metadata": {},
   "outputs": [],
   "source": [
    "/* Q11: Produce a report of members and who recommended them in alphabetic surname,firstname order */\n",
    "    \n",
    "SELECT m1.surname || \" \" || m1.firstname AS Member_Name,\n",
    "  m2.surname || \" \" || m2.firstname AS Recommended_By\n",
    "FROM Members AS m1\n",
    "INNER JOIN Members AS m2\n",
    "ON m1.recommendedby = m2.memid\n",
    "WHERE m1.recommendedby IS NOT NULL AND m1.recommendedby <> 0\n",
    "ORDER BY Member_Name;"
   ]
  },
  {
   "cell_type": "code",
   "execution_count": null,
   "metadata": {},
   "outputs": [],
   "source": [
    "/* Q12: Find the facilities with their usage by member, but not guests */\n",
    "    \n",
    "SELECT f.name AS Facility_Name,\n",
    "SUM(SLOTS) AS Total_Member_Usage_Slots\n",
    "FROM Bookings as b\n",
    "LEFT JOIN Facilities as f\n",
    "ON f.facid = b.facid\n",
    "WHERE b.memid > 0\n",
    "GROUP BY Facility_Name\n",
    "ORDER BY Total_Member_Usage_Slots DESC;"
   ]
  },
  {
   "cell_type": "code",
   "execution_count": null,
   "metadata": {},
   "outputs": [],
   "source": [
    "/* Q13: Find the facilities usage by month, but not guests */\n",
    "    \n",
    "SELECT f.name AS Facility_Name,\n",
    "  strftime('%,m', starttime) AS Month,\n",
    "  SUM(slots) AS Total_Member_Usage_Slots\n",
    "FROM Bookings as b\n",
    "LEFT JOIN Facilities as f\n",
    "ON f.facid = b.facid\n",
    "WHERE b.memid > 0\n",
    "GROUP BY Facility_Name, Month;"
   ]
  },
  {
   "cell_type": "code",
   "execution_count": null,
   "metadata": {},
   "outputs": [],
   "source": []
  }
 ],
 "metadata": {
  "kernelspec": {
   "display_name": "Python 3",
   "language": "python",
   "name": "python3"
  },
  "language_info": {
   "codemirror_mode": {
    "name": "ipython",
    "version": 3
   },
   "file_extension": ".py",
   "mimetype": "text/x-python",
   "name": "python",
   "nbconvert_exporter": "python",
   "pygments_lexer": "ipython3",
   "version": "3.7.6"
  }
 },
 "nbformat": 4,
 "nbformat_minor": 4
}
